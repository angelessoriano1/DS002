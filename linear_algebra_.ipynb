{
  "nbformat": 4,
  "nbformat_minor": 0,
  "metadata": {
    "colab": {
      "name": "Copy of DS_002_linear_algebra_template.ipynb",
      "provenance": [],
      "collapsed_sections": [],
      "include_colab_link": true
    },
    "kernelspec": {
      "name": "python3",
      "display_name": "Python 3"
    },
    "language_info": {
      "name": "python"
    }
  },
  "cells": [
    {
      "cell_type": "markdown",
      "metadata": {
        "id": "view-in-github",
        "colab_type": "text"
      },
      "source": [
        "<a href=\"https://colab.research.google.com/github/angelessoriano1/DS002/blob/main/linear_algebra_.ipynb\" target=\"_parent\"><img src=\"https://colab.research.google.com/assets/colab-badge.svg\" alt=\"Open In Colab\"/></a>"
      ]
    },
    {
      "cell_type": "markdown",
      "source": [
        "# Template for linear_algebra.py\n",
        "\n",
        "This template contains function declarations and a handful of assert tests for `linear_algebra.py`. Edit the return statements in each function until they pass each assertion. Refer to Chapter 4 from \"Data Science from Scratch\" for help."
      ],
      "metadata": {
        "id": "aKL2tZu_h0nw"
      }
    },
    {
      "cell_type": "code",
      "source": [
        "#USERNAME = \"angelessoriano1\""
      ],
      "metadata": {
        "id": "ES7vOCXK1w8-"
      },
      "execution_count": 1,
      "outputs": []
    },
    {
      "cell_type": "code",
      "source": [
        "# Import your code from GitHub\n",
        "\n",
        "# This is the root on Google Colab\n",
        "# Use the magic %cd command to navigate around the file system\n",
        "#%cd /content/\n",
        "\n",
        "# Use `isdir()` to see if the repository is already here\n",
        "#from genericpath import isdir\n",
        "\n",
        "# get your code\n",
        "# Does the folder/directory exist?\n",
        "\n",
        "# Clone the repository with the latest code\n",
        "#print(\"Clone the repo\")\n",
        "#!git clone https://github.com/angelessoriano1/DS002.git angelessoriano1\n",
        "\n",
        "#%cd /content/angelessoriano1\n",
        "#!git pull\n",
        "\n",
        "#%cd /content/"
      ],
      "metadata": {
        "colab": {
          "base_uri": "https://localhost:8080/"
        },
        "id": "fMw77VNq0olf",
        "outputId": "2a9f5ab6-1718-456b-924a-283bcf028e82"
      },
      "execution_count": 2,
      "outputs": [
        {
          "output_type": "stream",
          "name": "stdout",
          "text": [
            "/content\n",
            "Clone the repo\n",
            "Cloning into 'angelessoriano1'...\n",
            "remote: Enumerating objects: 31, done.\u001b[K\n",
            "remote: Counting objects: 100% (31/31), done.\u001b[K\n",
            "remote: Compressing objects: 100% (30/30), done.\u001b[K\n",
            "remote: Total 31 (delta 11), reused 0 (delta 0), pack-reused 0\u001b[K\n",
            "Unpacking objects: 100% (31/31), done.\n",
            "/content/angelessoriano1\n",
            "Already up to date.\n",
            "/content\n"
          ]
        }
      ]
    },
    {
      "cell_type": "code",
      "execution_count": 3,
      "metadata": {
        "id": "hoDb_ysGPj9T"
      },
      "outputs": [],
      "source": [
        "\n",
        "from typing import List\n",
        "\n",
        "Vector = List[float]\n",
        "\n",
        "def add(v: Vector, w: Vector) -> Vector:\n",
        "    \"\"\"Adds corresponding elements\"\"\"\n",
        "    assert len(v) == len(w), \"vectors must be the same length\"\n",
        "\n",
        "    return [v_i+w_i for v_i,w_i in zip(v,w)]\n",
        "\n",
        "def subtract(v: Vector, w: Vector) -> Vector:\n",
        "    \"\"\"Subtracts corresponding elements\"\"\"\n",
        "    assert len(v) == len(w), \"vectors must be the same length\"\n",
        "\n",
        "    return [v_i-w_i for v_i,w_i in zip(v,w)]\n",
        "\n",
        "\n",
        "def vector_sum(vectors: List[Vector]) -> Vector:\n",
        "    \"\"\"Sums all corresponding elements\"\"\"\n",
        "    # Check that vectors is not empty\n",
        "    assert vectors, \"no vectors provided!\"\n",
        "\n",
        "    # Check the vectors are all the same size\n",
        "    num_elements = len(vectors[0])\n",
        "    assert all(len(v) == num_elements for v in vectors), \"different sizes!\"\n",
        "\n",
        "    # the i-th element of the result is the sum of every vector[i]\n",
        "    return [sum(vector[i] for vector in vectors)\n",
        "            for i in range(num_elements)]\n",
        "\n",
        "\n",
        "def scalar_multiply(c: float, v: Vector) -> Vector:\n",
        "    \"\"\"Multiplies every element by c\"\"\"\n",
        "    return [c * v_i for v_i in v]\n",
        "\n",
        "\n",
        "def vector_mean(vectors: List[Vector]) -> Vector:\n",
        "    \"\"\"Computes the element-wise average\"\"\"\n",
        "    n = len(vectors)\n",
        "    return scalar_multiply(1/n, vector_sum(vectors))\n",
        "\n",
        "\n",
        "def dot(v: Vector, w: Vector) -> float:\n",
        "    \"\"\"Computes v_1 * w_1 + ... + v_n * w_n\"\"\"\n",
        "    assert len(v) == len(w), \"vectors must be same length\"\n",
        "\n",
        "    return sum(v_i * w_i for v_i, w_i in zip(v,w))\n",
        "\n",
        "\n",
        "def sum_of_squares(v: Vector) -> float:\n",
        "    \"\"\"Returns v_1 * v_1 + ... + v_n * v_n\"\"\"\n",
        "    return dot(v, v)\n",
        "\n",
        "\n",
        "import math\n",
        "\n",
        "def magnitude(v: Vector) -> float:\n",
        "    \"\"\"Returns the magnitude (or length) of v\"\"\"\n",
        "    return math.sqrt(sum_of_squares(v))   # math.sqrt is square root function\n",
        "\n",
        "\n",
        "def squared_distance(v: Vector, w: Vector) -> float:\n",
        "    \"\"\"Computes (v_1 - w_1) ** 2 + ... + (v_n - w_n) ** 2\"\"\"\n",
        "    return sum_of_squares(subtract(v, w))\n",
        "\n",
        "def distance(v: Vector, w: Vector) -> float:\n",
        "    \"\"\"Computes the distance between v and w\"\"\"\n",
        "    return math.sqrt(squared_distance(v, w))\n",
        "\n",
        "\n",
        "def distance(v: Vector, w: Vector) -> float:  # type: ignore\n",
        "    return magnitude(subtract(v, w))\n",
        "\n",
        "\n"
      ]
    },
    {
      "cell_type": "code",
      "source": [
        "assert add([1, 2, 3], [10,9,8]) == [11,11,11], \"something's wrong with add()\"\n",
        "assert subtract([11,11,11], [1, 2, 3]) == [10,9,8], \"trouble with subtract()\"\n",
        "assert vector_sum([[3,4], [5,6], [7,8]]) == [15, 18], \"vector_sum() problem\"\n",
        "assert vector_mean([[1, 2], [3, 4], [5, 6]]) == [3, 4], \"oopsie vector_mean()\"\n",
        "assert dot([1, 2, 3], [4, 5, 6]) == 32, \"dot() issue\"  # 1 * 4 + 2 * 5 + 3 * 6\n",
        "assert sum_of_squares([1, 2, 3]) == 14, \"sum_of_squares() fail\"  # 1 * 1 + 2 * 2 + 3 * 3\n",
        "assert magnitude([3, 4]) == 5, \"issue with magnitude()\"\n"
      ],
      "metadata": {
        "id": "Ty_MCAq6P2an"
      },
      "execution_count": 4,
      "outputs": []
    },
    {
      "cell_type": "code",
      "source": [
        ""
      ],
      "metadata": {
        "id": "7UJge4vsQeie"
      },
      "execution_count": 4,
      "outputs": []
    }
  ]
}