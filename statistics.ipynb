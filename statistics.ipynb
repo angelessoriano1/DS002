{
  "nbformat": 4,
  "nbformat_minor": 0,
  "metadata": {
    "colab": {
      "name": "statistics",
      "provenance": [],
      "authorship_tag": "ABX9TyMUYtQzmkGicR9IpDaw+CK9",
      "include_colab_link": true
    },
    "kernelspec": {
      "name": "python3",
      "display_name": "Python 3"
    },
    "language_info": {
      "name": "python"
    }
  },
  "cells": [
    {
      "cell_type": "markdown",
      "metadata": {
        "id": "view-in-github",
        "colab_type": "text"
      },
      "source": [
        "<a href=\"https://colab.research.google.com/github/angelessoriano1/DS002/blob/main/statistics.ipynb\" target=\"_parent\"><img src=\"https://colab.research.google.com/assets/colab-badge.svg\" alt=\"Open In Colab\"/></a>"
      ]
    },
    {
      "cell_type": "code",
      "execution_count": null,
      "metadata": {
        "id": "NiaeeRnUDylY"
      },
      "outputs": [],
      "source": [
        "from typing import List\n",
        "\n",
        "def mean(xs: List[float]) -> float:\n",
        "    return sum(xs) / len(xs)\n",
        "\n",
        "\n",
        "# The underscores indicate that these are \"private\" functions, as they're\n",
        "# intended to be called by our median function but not by other people\n",
        "# using our statistics library.\n",
        "def _median_odd(xs: List[float]) -> float:\n",
        "    \"\"\"If len(xs) is odd, the median is the middle element\"\"\"\n",
        "    return sorted(xs)[len(xs) // 2]\n",
        "\n",
        "def _median_even(xs: List[float]) -> float:\n",
        "    \"\"\"If len(xs) is even, it's the average of the middle two elements\"\"\"\n",
        "    sorted_xs = sorted(xs)\n",
        "    hi_midpoint = len(xs) // 2  # e.g. length 4 => hi_midpoint 2\n",
        "    return (sorted_xs[hi_midpoint - 1] + sorted_xs[hi_midpoint]) / 2\n",
        "\n",
        "def median(v: List[float]) -> float:\n",
        "    \"\"\"Finds the 'middle-most' value of v\"\"\"\n",
        "    return _median_even(v) if len(v) % 2 == 0 else _median_odd(v)\n",
        "\n",
        "assert median([1, 10, 2, 9, 5]) == 5\n",
        "assert median([1, 9, 2, 10]) == (2 + 9) / 2\n",
        "\n",
        "\n",
        "def mode(x: List[float]) -> List[float]:\n",
        "    \"\"\"Returns a list, since there might be more than one mode\"\"\"\n",
        "    counts = Counter(x)\n",
        "    max_count = max(counts.values())\n",
        "    return [x_i for x_i, count in counts.items()\n",
        "            if count == max_count]\n"
      ]
    }
  ]
}